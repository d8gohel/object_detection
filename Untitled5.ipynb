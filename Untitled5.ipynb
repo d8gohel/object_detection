{
 "cells": [
  {
   "cell_type": "code",
   "execution_count": 5,
   "id": "f2b28b98-db33-4571-8eb2-59f35dfa616c",
   "metadata": {},
   "outputs": [
    {
     "name": "stdout",
     "output_type": "stream",
     "text": [
      "Detection results saved as 'detection_results.pkl'\n"
     ]
    }
   ],
   "source": [
    "import cv2\n",
    "import numpy as np\n",
    "import pickle\n",
    "\n",
    "# Load YOLO model\n",
    "config_path = 'Downloads/yolov3.cfg'  # Path to YOLO config file\n",
    "weights_path = 'Downloads/yolov3.weights'  # Path to YOLO pre-trained weights\n",
    "coco_names_path = 'Downloads/coco.names'  # Path to coco class names\n",
    "\n",
    "# Load YOLO network\n",
    "net = cv2.dnn.readNet(weights_path, config_path)\n",
    "\n",
    "# Load class labels (COCO dataset)\n",
    "with open(coco_names_path, 'r') as f:\n",
    "    classes = [line.strip() for line in f.readlines()]\n",
    "\n",
    "# Get the output layer names\n",
    "layer_names = net.getLayerNames()\n",
    "output_layers = [layer_names[i - 1] for i in net.getUnconnectedOutLayers()]\n",
    "\n",
    "# Load an image\n",
    "image = cv2.imread('Downloads/R.jpg')\n",
    "height, width, channels = image.shape\n",
    "\n",
    "# Prepare the image for YOLO model\n",
    "blob = cv2.dnn.blobFromImage(image, 0.00392, (416, 416), (0, 0, 0), True, crop=False)\n",
    "net.setInput(blob)\n",
    "outs = net.forward(output_layers)\n",
    "\n",
    "# Post-processing (to extract the detected objects)\n",
    "class_ids = []\n",
    "confidences = []\n",
    "boxes = []\n",
    "threshold = 0.5  # Confidence threshold\n",
    "\n",
    "for out in outs:\n",
    "    for detection in out:\n",
    "        scores = detection[5:]\n",
    "        class_id = np.argmax(scores)\n",
    "        confidence = scores[class_id]\n",
    "\n",
    "        if confidence > threshold:\n",
    "            # Get coordinates of bounding box\n",
    "            center_x = int(detection[0] * width)\n",
    "            center_y = int(detection[1] * height)\n",
    "            w = int(detection[2] * width)\n",
    "            h = int(detection[3] * height)\n",
    "\n",
    "            # Rectangle coordinates\n",
    "            x = int(center_x - w / 2)\n",
    "            y = int(center_y - h / 2)\n",
    "\n",
    "            boxes.append([x, y, w, h])\n",
    "            confidences.append(float(confidence))\n",
    "            class_ids.append(class_id)\n",
    "\n",
    "# Apply non-maxima suppression to remove duplicate boxes\n",
    "indices = cv2.dnn.NMSBoxes(boxes, confidences, score_threshold=threshold, nms_threshold=0.4)\n",
    "\n",
    "# Store the detection results in a dictionary\n",
    "detection_data = {\n",
    "    'class_ids': class_ids,\n",
    "    'confidences': confidences,\n",
    "    'boxes': boxes,\n",
    "    'indices': indices.flatten() if indices is not None else [],\n",
    "    'classes': [classes[class_id] for class_id in class_ids],\n",
    "}\n",
    "\n",
    "# Save the detection results as a pickle file\n",
    "with open('detection_results.pkl', 'wb') as f:\n",
    "    pickle.dump(detection_data, f)\n",
    "\n",
    "print(\"Detection results saved as 'detection_results.pkl'\")\n"
   ]
  },
  {
   "cell_type": "code",
   "execution_count": null,
   "id": "b7a6bfbc-9ed6-44eb-9d2c-46e62379e484",
   "metadata": {},
   "outputs": [],
   "source": []
  }
 ],
 "metadata": {
  "kernelspec": {
   "display_name": "Python 3 (ipykernel)",
   "language": "python",
   "name": "python3"
  },
  "language_info": {
   "codemirror_mode": {
    "name": "ipython",
    "version": 3
   },
   "file_extension": ".py",
   "mimetype": "text/x-python",
   "name": "python",
   "nbconvert_exporter": "python",
   "pygments_lexer": "ipython3",
   "version": "3.12.2"
  }
 },
 "nbformat": 4,
 "nbformat_minor": 5
}
